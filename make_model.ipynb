{
 "cells": [
  {
   "cell_type": "code",
   "execution_count": 1,
   "metadata": {
    "executionInfo": {
     "elapsed": 409,
     "status": "ok",
     "timestamp": 1643023728845,
     "user": {
      "displayName": "Сергей Певцов",
      "photoUrl": "https://lh3.googleusercontent.com/a/default-user=s64",
      "userId": "03620521566451851588"
     },
     "user_tz": -180
    },
    "id": "HCeMJ9d4gpUg"
   },
   "outputs": [],
   "source": [
    "%matplotlib inline"
   ]
  },
  {
   "cell_type": "code",
   "execution_count": 2,
   "metadata": {
    "colab": {
     "base_uri": "https://localhost:8080/"
    },
    "executionInfo": {
     "elapsed": 1064,
     "status": "ok",
     "timestamp": 1643023731071,
     "user": {
      "displayName": "Сергей Певцов",
      "photoUrl": "https://lh3.googleusercontent.com/a/default-user=s64",
      "userId": "03620521566451851588"
     },
     "user_tz": -180
    },
    "id": "DB5uReDcgpUv",
    "outputId": "33280283-e806-4959-93d1-0a9339308926"
   },
   "outputs": [
    {
     "name": "stdout",
     "output_type": "stream",
     "text": [
      "The scikit-learn version is 0.23.2.\n"
     ]
    }
   ],
   "source": [
    "import warnings\n",
    "warnings.filterwarnings(\"ignore\")\n",
    "\n",
    "import pandas as pd\n",
    "import numpy as np\n",
    "from datetime import datetime\n",
    "\n",
    "from matplotlib import pyplot as plt\n",
    "\n",
    "plt.style.use('ggplot')\n",
    "\n",
    "import sklearn\n",
    "print('The scikit-learn version is {}.'.format(sklearn.__version__))"
   ]
  },
  {
   "cell_type": "code",
   "execution_count": 3,
   "metadata": {
    "executionInfo": {
     "elapsed": 35,
     "status": "ok",
     "timestamp": 1643023731073,
     "user": {
      "displayName": "Сергей Певцов",
      "photoUrl": "https://lh3.googleusercontent.com/a/default-user=s64",
      "userId": "03620521566451851588"
     },
     "user_tz": -180
    },
    "id": "_QPpwJ5MgpV3"
   },
   "outputs": [],
   "source": [
    "from sklearn.model_selection import train_test_split\n",
    "\n",
    "from sklearn.pipeline import Pipeline, make_pipeline\n",
    "from sklearn.base import BaseEstimator, TransformerMixin\n",
    "from sklearn.preprocessing import StandardScaler\n",
    "from sklearn.metrics import classification_report, f1_score\n",
    "\n",
    "from sklearn.linear_model import LogisticRegression\n",
    "\n",
    "from joblib import Parallel, delayed\n",
    "from sklearn.pipeline import FeatureUnion, _fit_transform_one, _transform_one\n",
    "from scipy import sparse"
   ]
  },
  {
   "cell_type": "code",
   "execution_count": 4,
   "metadata": {
    "executionInfo": {
     "elapsed": 35,
     "status": "ok",
     "timestamp": 1643023731075,
     "user": {
      "displayName": "Сергей Певцов",
      "photoUrl": "https://lh3.googleusercontent.com/a/default-user=s64",
      "userId": "03620521566451851588"
     },
     "user_tz": -180
    },
    "id": "UOoN4NZTmd0A"
   },
   "outputs": [],
   "source": [
    "def reduce_mem_usage(df):\n",
    "    \"\"\" iterate through all the columns of a dataframe and modify the data type\n",
    "        to reduce memory usage.        \n",
    "    \"\"\"\n",
    "    start_mem = df.memory_usage().sum() / 1024**2\n",
    "    print('Memory usage of dataframe is {:.2f} MB'.format(start_mem))\n",
    "    \n",
    "    for col in df.columns:\n",
    "        col_type = df[col].dtype\n",
    "        \n",
    "        if col_type != object:\n",
    "            c_min = df[col].min()\n",
    "            c_max = df[col].max()\n",
    "            if str(col_type)[:3] == 'int':\n",
    "                if c_min > np.iinfo(np.int8).min and c_max < np.iinfo(np.int8).max:\n",
    "                    df[col] = df[col].astype(np.int8)\n",
    "                elif c_min > np.iinfo(np.int16).min and c_max < np.iinfo(np.int16).max:\n",
    "                    df[col] = df[col].astype(np.int16)\n",
    "                elif c_min > np.iinfo(np.int32).min and c_max < np.iinfo(np.int32).max:\n",
    "                    df[col] = df[col].astype(np.int32)\n",
    "                elif c_min > np.iinfo(np.int64).min and c_max < np.iinfo(np.int64).max:\n",
    "                    df[col] = df[col].astype(np.int64)  \n",
    "            else:\n",
    "                if c_min > np.finfo(np.float32).min and c_max < np.finfo(np.float32).max:\n",
    "                    df[col] = df[col].astype(np.float32)\n",
    "                else:\n",
    "                    df[col] = df[col].astype(np.float64)\n",
    "        else:\n",
    "            df[col] = df[col].astype('category')\n",
    "\n",
    "    end_mem = df.memory_usage().sum() / 1024**2\n",
    "    print('Memory usage after optimization is: {:.2f} MB'.format(end_mem))\n",
    "    print('Decreased by {:.1f}%'.format(100 * (start_mem - end_mem) / start_mem))\n",
    "    \n",
    "    return df"
   ]
  },
  {
   "cell_type": "code",
   "execution_count": 5,
   "metadata": {
    "executionInfo": {
     "elapsed": 31,
     "status": "ok",
     "timestamp": 1643023731076,
     "user": {
      "displayName": "Сергей Певцов",
      "photoUrl": "https://lh3.googleusercontent.com/a/default-user=s64",
      "userId": "03620521566451851588"
     },
     "user_tz": -180
    },
    "id": "Cx6X7PzJgpVO"
   },
   "outputs": [],
   "source": [
    "def balanced_positive(X, y):\n",
    "    '''Устраняем дисбаланс в целевой переменной. Добавляет k раз позитивную часть датафрейма и перемешивает его'''\n",
    "    X_ = X.copy()\n",
    "    X_['target'] = y\n",
    "    msk = X_['target'] == 1\n",
    "    X_positive = X_.loc[msk, :]\n",
    "    \n",
    "    nmb_positive = X_positive.shape[0]\n",
    "    nmb_negative = X_.shape[0] - nmb_positive\n",
    "    \n",
    "    k = nmb_negative // nmb_positive - 1\n",
    "    n = nmb_negative % nmb_positive\n",
    "\n",
    "    for k in range(k):\n",
    "        X_ = pd.concat([X_, X_positive])\n",
    "   \n",
    "    sklearn.utils.shuffle(X_)\n",
    "    y_ = X_.pop('target')\n",
    "    return X_, y_"
   ]
  },
  {
   "cell_type": "code",
   "execution_count": 6,
   "metadata": {
    "executionInfo": {
     "elapsed": 30,
     "status": "ok",
     "timestamp": 1643023731078,
     "user": {
      "displayName": "Сергей Певцов",
      "photoUrl": "https://lh3.googleusercontent.com/a/default-user=s64",
      "userId": "03620521566451851588"
     },
     "user_tz": -180
    },
    "id": "ZmaJ7c1j9K_G"
   },
   "outputs": [],
   "source": [
    "def divide_features(X, features_exclude, N_cat=15):\n",
    "    X_nunique = X.apply(lambda x: x.nunique(dropna=False))\n",
    "    features_all = set(X_nunique.index.tolist()) - set(features_exclude)\n",
    "\n",
    "    features_const = set(X_nunique[X_nunique == 1].index.tolist()) - set(features_exclude)\n",
    "    features_other = features_all - (features_const)\n",
    "\n",
    "    features_categorical = set(X_nunique.loc[features_other][X_nunique.loc[features_other] <= N_cat].index.tolist())\n",
    "    features_other = features_other - features_categorical\n",
    "\n",
    "    features_numeric = (X.loc[:,features_other].fillna(0).astype(int).sum() - X.loc[:,features_other].fillna(0).sum()).abs()\n",
    "    features_numeric = set(features_numeric[features_numeric > 0].index.tolist())\n",
    "    features_other = features_other - features_numeric\n",
    "\n",
    "    assert(X_nunique.shape[0] == len(features_const) + len(features_numeric) + len(features_categorical)) +len(features_exclude)\n",
    "    return list(features_const), list(features_categorical), list(features_numeric)\n",
    "\n"
   ]
  },
  {
   "cell_type": "code",
   "execution_count": 7,
   "metadata": {
    "executionInfo": {
     "elapsed": 29,
     "status": "ok",
     "timestamp": 1643023731079,
     "user": {
      "displayName": "Сергей Певцов",
      "photoUrl": "https://lh3.googleusercontent.com/a/default-user=s64",
      "userId": "03620521566451851588"
     },
     "user_tz": -180
    },
    "id": "391Mc3Hbtg1D"
   },
   "outputs": [],
   "source": [
    "class PandasFeatureUnion(FeatureUnion):\n",
    "    def fit_transform(self, X, y=None, **fit_params):\n",
    "        self._validate_transformers()\n",
    "        result = Parallel(n_jobs=self.n_jobs)(\n",
    "            delayed(_fit_transform_one)(\n",
    "                transformer=trans,\n",
    "                X=X,\n",
    "                y=y,\n",
    "                weight=weight,\n",
    "                **fit_params)\n",
    "            for name, trans, weight in self._iter())\n",
    "\n",
    "        if not result:\n",
    "            # All transformers are None\n",
    "            return np.zeros((X.shape[0], 0))\n",
    "\n",
    "        Xs, transformers = zip(*result)\n",
    "        self._update_transformer_list(transformers)\n",
    "        if any(sparse.issparse(f) for f in Xs):\n",
    "            Xs = sparse.hstack(Xs).tocsr()\n",
    "        else:\n",
    "            Xs = self.merge_dataframes_by_column(Xs)\n",
    "        return Xs\n",
    "\n",
    "    def merge_dataframes_by_column(self, Xs):\n",
    "        return pd.concat(Xs, axis=\"columns\", copy=False)\n",
    "\n",
    "    def transform(self, X):\n",
    "        Xs = Parallel(n_jobs=self.n_jobs)(\n",
    "            delayed(_transform_one)(\n",
    "                transformer=trans,\n",
    "                X=X,\n",
    "                y=None,\n",
    "                weight=weight)\n",
    "            for name, trans, weight in self._iter())\n",
    "        if not Xs:\n",
    "            # All transformers are None\n",
    "            return np.zeros((X.shape[0], 0))\n",
    "        if any(sparse.issparse(f) for f in Xs):\n",
    "            Xs = sparse.hstack(Xs).tocsr()\n",
    "        else:\n",
    "            Xs = self.merge_dataframes_by_column(Xs)\n",
    "        return Xs"
   ]
  },
  {
   "cell_type": "code",
   "execution_count": 8,
   "metadata": {
    "executionInfo": {
     "elapsed": 498,
     "status": "ok",
     "timestamp": 1643023802352,
     "user": {
      "displayName": "Сергей Певцов",
      "photoUrl": "https://lh3.googleusercontent.com/a/default-user=s64",
      "userId": "03620521566451851588"
     },
     "user_tz": -180
    },
    "id": "YtSuCasAgpV4"
   },
   "outputs": [],
   "source": [
    "#соберем наш простой pipeline, но нам понадобится написать класс для выбора нужного поля\n",
    "class FeatureSelector(BaseEstimator, TransformerMixin):\n",
    "    def __init__(self, key):\n",
    "        self.key = key\n",
    "\n",
    "    def fit(self, X, y=None):\n",
    "        return self\n",
    "\n",
    "    def transform(self, X, y=None):\n",
    "        return X[[self.key]].rename(columns={self.key: 'cat/'+self.key})\n",
    "    \n",
    "class NumberSelector(BaseEstimator, TransformerMixin):\n",
    "    \"\"\"\n",
    "    Transformer to select a single column from the data frame to perform additional transformations on\n",
    "    Use on numeric columns in the data\n",
    "    \"\"\"\n",
    "    def __init__(self, key):\n",
    "        self.key = key\n",
    "\n",
    "    def fit(self, X, y=None):\n",
    "        return self\n",
    "\n",
    "    def transform(self, X):\n",
    "        return X[[self.key]].rename(columns={self.key: 'nmb/'+self.key})\n",
    "\n",
    "class PolynomSelector(BaseEstimator, TransformerMixin):\n",
    "    \"\"\"\n",
    "    Transformer to select a single column from the data frame to perform additional transformations on\n",
    "    Use on numeric columns in the data\n",
    "    \"\"\"\n",
    "    def __init__(self, key, degree=2):\n",
    "        self.key = key\n",
    "        self.degree = degree\n",
    "        self.column = 'pol'+str(degree)+'/'+self.key\n",
    "\n",
    "    def fit(self, X, y=None):\n",
    "        return self\n",
    "\n",
    "    def transform(self, X):\n",
    "        return pd.DataFrame({self.column:X[self.key]**self.degree})\n",
    "\n",
    "\n",
    "class FeatureScaler(BaseEstimator, TransformerMixin):\n",
    "    def __init__(self, scaler=StandardScaler):\n",
    "        self.scaler = scaler()\n",
    "        self.columns = []\n",
    "\n",
    "    def fit(self, X, y=None):\n",
    "        self.columns = X.columns.tolist()\n",
    "        self.scaler.fit(X)\n",
    "        return self\n",
    "\n",
    "    def transform(self, X, y=None):\n",
    "        index = X.index\n",
    "        return pd.DataFrame(self.scaler.transform(X), columns=self.columns, index=index)\n",
    "\n",
    "class OHEEncoder(BaseEstimator, TransformerMixin):\n",
    "    def __init__(self, values=[]):\n",
    "        self.key = []\n",
    "        self.columns = []\n",
    "        self.values = []\n",
    "        if len(values)  > 0:\n",
    "            self.values = [str(val) for val in values]\n",
    "\n",
    "    def fit(self, X, y=None):\n",
    "        self.key = X.columns.tolist()\n",
    "        if len(self.values) == 0:\n",
    "            self.columns = [col for col in pd.get_dummies(X, prefix=self.key, prefix_sep='/', columns=self.key).columns]\n",
    "        else:\n",
    "            self.columns = [col for col in pd.get_dummies(X, prefix=self.key, prefix_sep='/', columns=self.key).columns\n",
    "                            if col.split('/')[2] in self.values]\n",
    "        return self\n",
    "\n",
    "    def transform(self, X):\n",
    "        X_ = pd.get_dummies(X, prefix=self.key, prefix_sep='/', columns=self.key)\n",
    "        test_columns = [col for col in X_.columns]\n",
    "        for col_ in self.columns:\n",
    "            if col_ not in test_columns:\n",
    "                X_[col_] = 0\n",
    "        return X_[self.columns]\n",
    "\n",
    "class MonthSelector(BaseEstimator, TransformerMixin):\n",
    "    \"\"\"\n",
    "    Transformer to select a single column from the data frame to perform additional transformations on\n",
    "    Use on numeric columns in the data\n",
    "    \"\"\"\n",
    "    def __init__(self, key):\n",
    "        self.key = key\n",
    "        self.column = 'month/'+self.key\n",
    "\n",
    "    def fit(self, X, y=None):\n",
    "        return self\n",
    "\n",
    "    def transform(self, X):\n",
    "        X_ = X[self.key].apply(lambda x: datetime.fromtimestamp(x).month)\n",
    "        return pd.DataFrame({self.column:X_})"
   ]
  },
  {
   "cell_type": "code",
   "execution_count": 9,
   "metadata": {
    "id": "gf9kDyqaj8dw"
   },
   "outputs": [],
   "source": [
    "def model_report(f_features, X_train_, y_train_, X_test_, y_test_, C=1):\n",
    "    \"\"\"\n",
    "    Создает и обучает модель, потом формирует отчет с параметрами точности на тестовых данных \n",
    "    \"\"\"\n",
    "    transf = f_features.make_pipeline()\n",
    "    estimator = Pipeline([\n",
    "                ('log_reg', LogisticRegression(C=C, penalty='l1', solver='saga', random_state=RANDOM_STATE, n_jobs=-1, tol=0.01)),\n",
    "                ])\n",
    "    estimator.fit(transf.fit_transform(X_train_, y_train_), y_train_)\n",
    "    X_test_transf = transf.transform(X_test_)\n",
    "    y_pred = estimator.predict_proba(X_test_transf )[:,1]\n",
    "    print(classification_report(y_test_, y_pred > 0.5, digits=4))\n",
    "\n",
    "    return estimator, X_test_transf, y_pred"
   ]
  },
  {
   "cell_type": "code",
   "execution_count": 10,
   "metadata": {},
   "outputs": [],
   "source": [
    "def select_columns(estimator, X):\n",
    "    names = X.columns\n",
    "    coef = estimator.coef_[0]\n",
    "    columns_coef = pd.DataFrame({'column':names, 'coef':coef})\n",
    "    return columns_coef[columns_coef['coef'] == 0]['column'].tolist()"
   ]
  },
  {
   "cell_type": "code",
   "execution_count": 11,
   "metadata": {},
   "outputs": [],
   "source": [
    "class FeatureCollection():\n",
    "    \"\"\"\n",
    "    \"\"\"\n",
    "    def __init__(self):\n",
    "        self.collection =  dict()\n",
    "    \n",
    "    def set_categorical(self, X, f_features):\n",
    "        self.collection['cat'] = {col:list(map(str,X[col].unique().tolist())) for col in f_features}\n",
    "        return self\n",
    "    \n",
    "    def set_features(self, part, f_features):\n",
    "        self.collection[part] = f_features.copy()\n",
    "        return self\n",
    "    \n",
    "    def remove(self, f_columns):\n",
    "        for column in f_columns:\n",
    "            splt = column.split('/')\n",
    "            if splt[0] in ['cat']:\n",
    "                self.collection[splt[0]][splt[1]].remove(splt[2])\n",
    "                if len(self.collection[splt[0]][splt[1]]) == 0:\n",
    "                    self.collection[splt[0]].pop(splt[1])\n",
    "            \n",
    "            if splt[0] in ['nmb', 'pol2', 'pol3', 'cfr', 'log', 'abs', 'his']:\n",
    "                self.collection[splt[0]].remove(splt[1])\n",
    "            \n",
    "            if splt[0] in ['mul']:\n",
    "                self.collection[splt[0]].remove((splt[1], splt[2]))\n",
    "\n",
    "        return self\n",
    "    \n",
    "    def copy(self):\n",
    "        copy_collection = FeatureCollection()\n",
    "        for f_cat, f_feats in self.collection.items():\n",
    "            if f_cat == 'cat':\n",
    "                if copy_collection.collection.get('cat') is None:\n",
    "                    copy_collection.collection['cat'] = dict()\n",
    "                for col, val in f_feats.items():\n",
    "                    copy_collection.collection[f_cat][col] = val.copy()\n",
    "            else:\n",
    "                copy_collection.collection[f_cat] = f_feats.copy()\n",
    "        return copy_collection\n",
    "    \n",
    "    def make_pipeline(self):\n",
    "        final_transformers = list()\n",
    "        for f_cat, f_feats in self.collection.items():\n",
    "            if f_cat == 'cat':\n",
    "                for col, val in f_feats.items():\n",
    "                    transformer = Pipeline([\n",
    "                        ('selector', FeatureSelector(key=col)),\n",
    "                        ('ohe', OHEEncoder(values=val))\n",
    "                        ])\n",
    "                    final_transformers.append(('cat_'+col, transformer))\n",
    "        \n",
    "            if f_cat == 'nmb':\n",
    "                for col in f_feats:\n",
    "                    transformer = Pipeline([\n",
    "                        ('selector', NumberSelector(key=col)),\n",
    "                        #('repair', NumberRepair()),\n",
    "                        ('scaler', FeatureScaler(StandardScaler))\n",
    "                        ])\n",
    "                    final_transformers.append(('nmb_'+col, transformer))  \n",
    "\n",
    "            if f_cat == 'month':\n",
    "                for col in f_feats:\n",
    "                    transformer = Pipeline([\n",
    "                        ('selector', MonthSelector(key=col)),\n",
    "                        ('ohe', OHEEncoder())\n",
    "                        ])\n",
    "                    final_transformers.append(('month_'+col, transformer))  \n",
    "\n",
    "            if f_cat == 'pol2':\n",
    "                for col in f_feats:\n",
    "                    transformer = Pipeline([\n",
    "                        ('selector', PolynomSelector(key=col, degree=2)),\n",
    "                        ('scaler', FeatureScaler(StandardScaler))\n",
    "                        ])\n",
    "                    final_transformers.append(('pol2_'+col, transformer))  \n",
    "\n",
    "        \n",
    "        return PandasFeatureUnion(final_transformers)\n",
    "    "
   ]
  },
  {
   "cell_type": "markdown",
   "metadata": {
    "id": "1ESagKRMgpUo"
   },
   "source": [
    "# 1 Baseline"
   ]
  },
  {
   "cell_type": "markdown",
   "metadata": {
    "id": "R4IztHGwgpUs"
   },
   "source": [
    "Считываем данные, строим baseline модель и рассматриваем разные метрики и графики для задачи классификации."
   ]
  },
  {
   "cell_type": "markdown",
   "metadata": {
    "id": "ynFHvLyugpU0"
   },
   "source": [
    "### 1.1 Данные"
   ]
  },
  {
   "cell_type": "code",
   "execution_count": 12,
   "metadata": {
    "colab": {
     "base_uri": "https://localhost:8080/"
    },
    "executionInfo": {
     "elapsed": 5600,
     "status": "ok",
     "timestamp": 1643023737626,
     "user": {
      "displayName": "Сергей Певцов",
      "photoUrl": "https://lh3.googleusercontent.com/a/default-user=s64",
      "userId": "03620521566451851588"
     },
     "user_tz": -180
    },
    "id": "z0GnyJeFgtLD",
    "outputId": "da83db8d-3f52-4de1-bc2c-ecf50bf4d2a5"
   },
   "outputs": [],
   "source": [
    "#from google.colab import drive\n",
    "#drive.mount('/content/drive')\n",
    "#PATH_DATA = \"/content/drive/MyDrive/Megafon/\"\n",
    "\n",
    "PATH_DATA = \"\""
   ]
  },
  {
   "cell_type": "code",
   "execution_count": 13,
   "metadata": {
    "colab": {
     "base_uri": "https://localhost:8080/"
    },
    "executionInfo": {
     "elapsed": 30662,
     "status": "ok",
     "timestamp": 1643023768281,
     "user": {
      "displayName": "Сергей Певцов",
      "photoUrl": "https://lh3.googleusercontent.com/a/default-user=s64",
      "userId": "03620521566451851588"
     },
     "user_tz": -180
    },
    "id": "M2DKbjQGgpU1",
    "outputId": "6e40c535-50b7-4be9-c91e-227db4aaf70d"
   },
   "outputs": [
    {
     "data": {
      "text/plain": [
       "(831653, 261)"
      ]
     },
     "execution_count": 13,
     "metadata": {},
     "output_type": "execute_result"
    }
   ],
   "source": [
    "data = pd.read_csv(PATH_DATA+'data.csv')\n",
    "data.shape"
   ]
  },
  {
   "cell_type": "code",
   "execution_count": 14,
   "metadata": {
    "colab": {
     "base_uri": "https://localhost:8080/"
    },
    "executionInfo": {
     "elapsed": 23214,
     "status": "ok",
     "timestamp": 1643023791466,
     "user": {
      "displayName": "Сергей Певцов",
      "photoUrl": "https://lh3.googleusercontent.com/a/default-user=s64",
      "userId": "03620521566451851588"
     },
     "user_tz": -180
    },
    "id": "DOHmJdonmkSe",
    "outputId": "94d7567b-12d0-49de-915b-c824665d0c68"
   },
   "outputs": [
    {
     "name": "stdout",
     "output_type": "stream",
     "text": [
      "Memory usage of dataframe is 1656.05 MB\n",
      "Memory usage after optimization is: 828.02 MB\n",
      "Decreased by 50.0%\n"
     ]
    }
   ],
   "source": [
    "data = reduce_mem_usage(data)"
   ]
  },
  {
   "cell_type": "code",
   "execution_count": 15,
   "metadata": {
    "colab": {
     "base_uri": "https://localhost:8080/",
     "height": 348
    },
    "executionInfo": {
     "elapsed": 40,
     "status": "ok",
     "timestamp": 1643023791472,
     "user": {
      "displayName": "Сергей Певцов",
      "photoUrl": "https://lh3.googleusercontent.com/a/default-user=s64",
      "userId": "03620521566451851588"
     },
     "user_tz": -180
    },
    "id": "hcO30rMQgpU3",
    "outputId": "a9820f45-2aee-46b1-98f8-95a595e397b4"
   },
   "outputs": [
    {
     "data": {
      "text/html": [
       "<div>\n",
       "<style scoped>\n",
       "    .dataframe tbody tr th:only-of-type {\n",
       "        vertical-align: middle;\n",
       "    }\n",
       "\n",
       "    .dataframe tbody tr th {\n",
       "        vertical-align: top;\n",
       "    }\n",
       "\n",
       "    .dataframe thead th {\n",
       "        text-align: right;\n",
       "    }\n",
       "</style>\n",
       "<table border=\"1\" class=\"dataframe\">\n",
       "  <thead>\n",
       "    <tr style=\"text-align: right;\">\n",
       "      <th></th>\n",
       "      <th>Unnamed: 0</th>\n",
       "      <th>lag</th>\n",
       "      <th>id</th>\n",
       "      <th>feat_time</th>\n",
       "      <th>feat-0</th>\n",
       "      <th>feat-1</th>\n",
       "      <th>feat-2</th>\n",
       "      <th>feat-3</th>\n",
       "      <th>feat-4</th>\n",
       "      <th>feat-5</th>\n",
       "      <th>...</th>\n",
       "      <th>feat-246</th>\n",
       "      <th>feat-247</th>\n",
       "      <th>feat-248</th>\n",
       "      <th>feat-249</th>\n",
       "      <th>feat-250</th>\n",
       "      <th>feat-251</th>\n",
       "      <th>feat-252</th>\n",
       "      <th>vas_id</th>\n",
       "      <th>buy_time</th>\n",
       "      <th>target</th>\n",
       "    </tr>\n",
       "    <tr>\n",
       "      <th>offer_id</th>\n",
       "      <th></th>\n",
       "      <th></th>\n",
       "      <th></th>\n",
       "      <th></th>\n",
       "      <th></th>\n",
       "      <th></th>\n",
       "      <th></th>\n",
       "      <th></th>\n",
       "      <th></th>\n",
       "      <th></th>\n",
       "      <th></th>\n",
       "      <th></th>\n",
       "      <th></th>\n",
       "      <th></th>\n",
       "      <th></th>\n",
       "      <th></th>\n",
       "      <th></th>\n",
       "      <th></th>\n",
       "      <th></th>\n",
       "      <th></th>\n",
       "      <th></th>\n",
       "    </tr>\n",
       "  </thead>\n",
       "  <tbody>\n",
       "    <tr>\n",
       "      <th>0</th>\n",
       "      <td>0</td>\n",
       "      <td>19958400</td>\n",
       "      <td>540968</td>\n",
       "      <td>1541970000</td>\n",
       "      <td>-31.559971</td>\n",
       "      <td>327.360901</td>\n",
       "      <td>-45.500786</td>\n",
       "      <td>274.753204</td>\n",
       "      <td>-50.918247</td>\n",
       "      <td>253.648209</td>\n",
       "      <td>...</td>\n",
       "      <td>-37.630447</td>\n",
       "      <td>-28.747725</td>\n",
       "      <td>4.167111</td>\n",
       "      <td>7.305572</td>\n",
       "      <td>-12.175933</td>\n",
       "      <td>21.543859</td>\n",
       "      <td>0.0</td>\n",
       "      <td>8.0</td>\n",
       "      <td>1537131600</td>\n",
       "      <td>0.0</td>\n",
       "    </tr>\n",
       "    <tr>\n",
       "      <th>1</th>\n",
       "      <td>1</td>\n",
       "      <td>604800</td>\n",
       "      <td>1454121</td>\n",
       "      <td>1531083600</td>\n",
       "      <td>547.270020</td>\n",
       "      <td>238.430893</td>\n",
       "      <td>533.329224</td>\n",
       "      <td>274.803192</td>\n",
       "      <td>527.911743</td>\n",
       "      <td>253.698212</td>\n",
       "      <td>...</td>\n",
       "      <td>-19.630449</td>\n",
       "      <td>-278.747711</td>\n",
       "      <td>-24.832888</td>\n",
       "      <td>-0.694429</td>\n",
       "      <td>-11.175933</td>\n",
       "      <td>-0.456140</td>\n",
       "      <td>0.0</td>\n",
       "      <td>4.0</td>\n",
       "      <td>1531688400</td>\n",
       "      <td>0.0</td>\n",
       "    </tr>\n",
       "    <tr>\n",
       "      <th>2</th>\n",
       "      <td>2</td>\n",
       "      <td>24192000</td>\n",
       "      <td>2458816</td>\n",
       "      <td>1543179600</td>\n",
       "      <td>-92.139969</td>\n",
       "      <td>-95.469109</td>\n",
       "      <td>-106.080788</td>\n",
       "      <td>-139.596802</td>\n",
       "      <td>-111.498245</td>\n",
       "      <td>-142.901794</td>\n",
       "      <td>...</td>\n",
       "      <td>-37.630447</td>\n",
       "      <td>-304.747711</td>\n",
       "      <td>-25.832888</td>\n",
       "      <td>-0.694429</td>\n",
       "      <td>-12.175933</td>\n",
       "      <td>-0.456140</td>\n",
       "      <td>0.0</td>\n",
       "      <td>1.0</td>\n",
       "      <td>1534107600</td>\n",
       "      <td>0.0</td>\n",
       "    </tr>\n",
       "    <tr>\n",
       "      <th>3</th>\n",
       "      <td>3</td>\n",
       "      <td>2419200</td>\n",
       "      <td>3535012</td>\n",
       "      <td>1533502800</td>\n",
       "      <td>54.880028</td>\n",
       "      <td>12.970888</td>\n",
       "      <td>54.079212</td>\n",
       "      <td>-9.116798</td>\n",
       "      <td>48.661755</td>\n",
       "      <td>-30.221790</td>\n",
       "      <td>...</td>\n",
       "      <td>-18.630449</td>\n",
       "      <td>-133.747726</td>\n",
       "      <td>-14.832889</td>\n",
       "      <td>-0.694429</td>\n",
       "      <td>-1.175933</td>\n",
       "      <td>-0.456140</td>\n",
       "      <td>0.0</td>\n",
       "      <td>5.0</td>\n",
       "      <td>1535922000</td>\n",
       "      <td>0.0</td>\n",
       "    </tr>\n",
       "    <tr>\n",
       "      <th>4</th>\n",
       "      <td>4</td>\n",
       "      <td>22377600</td>\n",
       "      <td>1693214</td>\n",
       "      <td>1543179600</td>\n",
       "      <td>45.160030</td>\n",
       "      <td>295.240875</td>\n",
       "      <td>64.679214</td>\n",
       "      <td>344.283203</td>\n",
       "      <td>59.261753</td>\n",
       "      <td>323.178223</td>\n",
       "      <td>...</td>\n",
       "      <td>-32.630447</td>\n",
       "      <td>-127.747726</td>\n",
       "      <td>-4.832889</td>\n",
       "      <td>-0.694429</td>\n",
       "      <td>-12.175933</td>\n",
       "      <td>-0.456140</td>\n",
       "      <td>0.0</td>\n",
       "      <td>1.0</td>\n",
       "      <td>1535922000</td>\n",
       "      <td>0.0</td>\n",
       "    </tr>\n",
       "  </tbody>\n",
       "</table>\n",
       "<p>5 rows × 260 columns</p>\n",
       "</div>"
      ],
      "text/plain": [
       "          Unnamed: 0       lag       id   feat_time      feat-0      feat-1  \\\n",
       "offer_id                                                                      \n",
       "0                  0  19958400   540968  1541970000  -31.559971  327.360901   \n",
       "1                  1    604800  1454121  1531083600  547.270020  238.430893   \n",
       "2                  2  24192000  2458816  1543179600  -92.139969  -95.469109   \n",
       "3                  3   2419200  3535012  1533502800   54.880028   12.970888   \n",
       "4                  4  22377600  1693214  1543179600   45.160030  295.240875   \n",
       "\n",
       "              feat-2      feat-3      feat-4      feat-5  ...   feat-246  \\\n",
       "offer_id                                                  ...              \n",
       "0         -45.500786  274.753204  -50.918247  253.648209  ... -37.630447   \n",
       "1         533.329224  274.803192  527.911743  253.698212  ... -19.630449   \n",
       "2        -106.080788 -139.596802 -111.498245 -142.901794  ... -37.630447   \n",
       "3          54.079212   -9.116798   48.661755  -30.221790  ... -18.630449   \n",
       "4          64.679214  344.283203   59.261753  323.178223  ... -32.630447   \n",
       "\n",
       "            feat-247   feat-248  feat-249   feat-250   feat-251  feat-252  \\\n",
       "offer_id                                                                    \n",
       "0         -28.747725   4.167111  7.305572 -12.175933  21.543859       0.0   \n",
       "1        -278.747711 -24.832888 -0.694429 -11.175933  -0.456140       0.0   \n",
       "2        -304.747711 -25.832888 -0.694429 -12.175933  -0.456140       0.0   \n",
       "3        -133.747726 -14.832889 -0.694429  -1.175933  -0.456140       0.0   \n",
       "4        -127.747726  -4.832889 -0.694429 -12.175933  -0.456140       0.0   \n",
       "\n",
       "          vas_id    buy_time  target  \n",
       "offer_id                              \n",
       "0            8.0  1537131600     0.0  \n",
       "1            4.0  1531688400     0.0  \n",
       "2            1.0  1534107600     0.0  \n",
       "3            5.0  1535922000     0.0  \n",
       "4            1.0  1535922000     0.0  \n",
       "\n",
       "[5 rows x 260 columns]"
      ]
     },
     "execution_count": 15,
     "metadata": {},
     "output_type": "execute_result"
    }
   ],
   "source": [
    "# column processing\n",
    "data.columns = ['feat-'+col if col.isnumeric() else col for col in data.columns]\n",
    "data = data.set_index('offer_id')\n",
    "data.head()"
   ]
  },
  {
   "cell_type": "markdown",
   "metadata": {},
   "source": [
    "### 1.2 Целевая переменная"
   ]
  },
  {
   "cell_type": "code",
   "execution_count": 16,
   "metadata": {},
   "outputs": [
    {
     "data": {
      "text/plain": [
       "<AxesSubplot:xlabel='vas_id'>"
      ]
     },
     "execution_count": 16,
     "metadata": {},
     "output_type": "execute_result"
    },
    {
     "data": {
      "image/png": "[encoded data removed]",
      "text/plain": [
       "<Figure size 432x288 with 1 Axes>"
      ]
     },
     "metadata": {},
     "output_type": "display_data"
    }
   ],
   "source": [
    "gg=data.groupby('vas_id').agg({'target':[len, sum]})\n",
    "gg.plot(kind='bar')"
   ]
  },
  {
   "cell_type": "code",
   "execution_count": 17,
   "metadata": {},
   "outputs": [
    {
     "data": {
      "text/html": [
       "<div>\n",
       "<style scoped>\n",
       "    .dataframe tbody tr th:only-of-type {\n",
       "        vertical-align: middle;\n",
       "    }\n",
       "\n",
       "    .dataframe tbody tr th {\n",
       "        vertical-align: top;\n",
       "    }\n",
       "\n",
       "    .dataframe thead th {\n",
       "        text-align: right;\n",
       "    }\n",
       "</style>\n",
       "<table border=\"1\" class=\"dataframe\">\n",
       "  <thead>\n",
       "    <tr style=\"text-align: right;\">\n",
       "      <th></th>\n",
       "      <th>len</th>\n",
       "      <th>sum</th>\n",
       "      <th>rt</th>\n",
       "    </tr>\n",
       "    <tr>\n",
       "      <th>vas_id</th>\n",
       "      <th></th>\n",
       "      <th></th>\n",
       "      <th></th>\n",
       "    </tr>\n",
       "  </thead>\n",
       "  <tbody>\n",
       "    <tr>\n",
       "      <th>1.0</th>\n",
       "      <td>310175.0</td>\n",
       "      <td>5664.0</td>\n",
       "      <td>0.018261</td>\n",
       "    </tr>\n",
       "    <tr>\n",
       "      <th>2.0</th>\n",
       "      <td>249505.0</td>\n",
       "      <td>4797.0</td>\n",
       "      <td>0.019226</td>\n",
       "    </tr>\n",
       "    <tr>\n",
       "      <th>4.0</th>\n",
       "      <td>85756.0</td>\n",
       "      <td>21765.0</td>\n",
       "      <td>0.253801</td>\n",
       "    </tr>\n",
       "    <tr>\n",
       "      <th>5.0</th>\n",
       "      <td>94085.0</td>\n",
       "      <td>1692.0</td>\n",
       "      <td>0.017984</td>\n",
       "    </tr>\n",
       "    <tr>\n",
       "      <th>6.0</th>\n",
       "      <td>57878.0</td>\n",
       "      <td>24704.0</td>\n",
       "      <td>0.426829</td>\n",
       "    </tr>\n",
       "    <tr>\n",
       "      <th>7.0</th>\n",
       "      <td>15432.0</td>\n",
       "      <td>213.0</td>\n",
       "      <td>0.013802</td>\n",
       "    </tr>\n",
       "    <tr>\n",
       "      <th>8.0</th>\n",
       "      <td>13350.0</td>\n",
       "      <td>347.0</td>\n",
       "      <td>0.025993</td>\n",
       "    </tr>\n",
       "    <tr>\n",
       "      <th>9.0</th>\n",
       "      <td>5472.0</td>\n",
       "      <td>1004.0</td>\n",
       "      <td>0.183480</td>\n",
       "    </tr>\n",
       "  </tbody>\n",
       "</table>\n",
       "</div>"
      ],
      "text/plain": [
       "             len      sum        rt\n",
       "vas_id                             \n",
       "1.0     310175.0   5664.0  0.018261\n",
       "2.0     249505.0   4797.0  0.019226\n",
       "4.0      85756.0  21765.0  0.253801\n",
       "5.0      94085.0   1692.0  0.017984\n",
       "6.0      57878.0  24704.0  0.426829\n",
       "7.0      15432.0    213.0  0.013802\n",
       "8.0      13350.0    347.0  0.025993\n",
       "9.0       5472.0   1004.0  0.183480"
      ]
     },
     "execution_count": 17,
     "metadata": {},
     "output_type": "execute_result"
    }
   ],
   "source": [
    "gg.columns = ['len', 'sum']\n",
    "gg['rt'] = gg['sum'] / gg['len']\n",
    "gg"
   ]
  },
  {
   "cell_type": "markdown",
   "metadata": {
    "id": "i_drjlpYgpVI"
   },
   "source": [
    "### 1.2 Разделяем на train и test"
   ]
  },
  {
   "cell_type": "code",
   "execution_count": 18,
   "metadata": {
    "colab": {
     "base_uri": "https://localhost:8080/"
    },
    "executionInfo": {
     "elapsed": 3250,
     "status": "ok",
     "timestamp": 1643023794696,
     "user": {
      "displayName": "Сергей Певцов",
      "photoUrl": "https://lh3.googleusercontent.com/a/default-user=s64",
      "userId": "03620521566451851588"
     },
     "user_tz": -180
    },
    "id": "i-oFGe9LgpU-",
    "outputId": "156a7f0f-979c-4c13-c12d-78acd48f92ed"
   },
   "outputs": [
    {
     "name": "stdout",
     "output_type": "stream",
     "text": [
      "ID уникален?  True\n",
      "Есть ли дубли в строках? 0\n",
      "Сколько процент признаков могут принимать null-значениями? 0%\n"
     ]
    }
   ],
   "source": [
    "# Разделим признаки и целевую переменную\n",
    "#data_prelim = data[data['vas_id'].isin([9])] #.copy()\n",
    "data_prelim = data.copy()\n",
    "\n",
    "X = data_prelim.drop('target', axis=1)\n",
    "y = data_prelim['target']\n",
    "\n",
    "print(\"ID уникален? \", X.index.is_unique)\n",
    "print(\"Есть ли дубли в строках?\", X.duplicated().sum())\n",
    "print(\"Сколько процент признаков могут принимать null-значениями? %d%%\" % float((X.isnull().sum() > 0).sum()/X.shape[1]*100))"
   ]
  },
  {
   "cell_type": "code",
   "execution_count": 19,
   "metadata": {
    "colab": {
     "base_uri": "https://localhost:8080/",
     "height": 343
    },
    "executionInfo": {
     "elapsed": 44,
     "status": "ok",
     "timestamp": 1643023794707,
     "user": {
      "displayName": "Сергей Певцов",
      "photoUrl": "https://lh3.googleusercontent.com/a/default-user=s64",
      "userId": "03620521566451851588"
     },
     "user_tz": -180
    },
    "id": "JJ58KZdegpVK",
    "outputId": "be3a9f26-760e-4d52-dfea-911b5d14098f"
   },
   "outputs": [
    {
     "data": {
      "text/plain": [
       "0.0    0.927631\n",
       "1.0    0.072369\n",
       "Name: target, dtype: float64"
      ]
     },
     "execution_count": 19,
     "metadata": {},
     "output_type": "execute_result"
    },
    {
     "data": {
      "image/png": "[encoded data removed]",
      "text/plain": [
       "<Figure size 432x288 with 1 Axes>"
      ]
     },
     "metadata": {},
     "output_type": "display_data"
    }
   ],
   "source": [
    "(y.value_counts()/y.shape[0]).plot(kind='bar', title='Распределение целевой переменной');\n",
    "y.value_counts()/y.shape"
   ]
  },
  {
   "cell_type": "code",
   "execution_count": 20,
   "metadata": {
    "colab": {
     "base_uri": "https://localhost:8080/"
    },
    "executionInfo": {
     "elapsed": 468,
     "status": "ok",
     "timestamp": 1643023795144,
     "user": {
      "displayName": "Сергей Певцов",
      "photoUrl": "https://lh3.googleusercontent.com/a/default-user=s64",
      "userId": "03620521566451851588"
     },
     "user_tz": -180
    },
    "id": "JrvJuWiXgpVM",
    "outputId": "39923da1-66c6-4662-89c4-30de93b3f21c"
   },
   "outputs": [
    {
     "name": "stdout",
     "output_type": "stream",
     "text": [
      "Train\n",
      "0.0    0.927521\n",
      "1.0    0.072479\n",
      "Name: target, dtype: float64\n",
      "\n",
      "0.0    578531\n",
      "1.0     45208\n",
      "Name: target, dtype: int64\n",
      "\n",
      "Test\n",
      "0.0    0.927961\n",
      "1.0    0.072039\n",
      "Name: target, dtype: float64\n"
     ]
    }
   ],
   "source": [
    "# Зафиксируем значение random_state для воспроизводимости результатов.\n",
    "RANDOM_STATE = 888\n",
    "\n",
    "train_idx, test_idx = train_test_split(X.index, test_size=0.25, random_state=RANDOM_STATE)\n",
    "\n",
    "y_train, y_test = y.loc[train_idx], y.loc[test_idx]\n",
    "X_train, X_test = X.loc[train_idx], X.loc[test_idx]\n",
    "\n",
    "print(\"Train\")\n",
    "print(y.loc[train_idx].value_counts()/train_idx.shape[0])\n",
    "print()\n",
    "print(y.loc[train_idx].value_counts())\n",
    "print()\n",
    "print(\"Test\")\n",
    "print(y.loc[test_idx].value_counts()/test_idx.shape[0])"
   ]
  },
  {
   "cell_type": "code",
   "execution_count": 21,
   "metadata": {
    "executionInfo": {
     "elapsed": 3275,
     "status": "ok",
     "timestamp": 1643023798405,
     "user": {
      "displayName": "Сергей Певцов",
      "photoUrl": "https://lh3.googleusercontent.com/a/default-user=s64",
      "userId": "03620521566451851588"
     },
     "user_tz": -180
    },
    "id": "m82raCAWgpVR"
   },
   "outputs": [],
   "source": [
    "X_train, y_train = balanced_positive(X_train, y_train)"
   ]
  },
  {
   "cell_type": "code",
   "execution_count": 22,
   "metadata": {
    "colab": {
     "base_uri": "https://localhost:8080/",
     "height": 343
    },
    "executionInfo": {
     "elapsed": 852,
     "status": "ok",
     "timestamp": 1643023799242,
     "user": {
      "displayName": "Сергей Певцов",
      "photoUrl": "https://lh3.googleusercontent.com/a/default-user=s64",
      "userId": "03620521566451851588"
     },
     "user_tz": -180
    },
    "id": "wnnB6F1vgpVU",
    "outputId": "ab79f274-f860-4279-fdb9-27f6e42e1172"
   },
   "outputs": [
    {
     "data": {
      "text/plain": [
       "0.0    0.516072\n",
       "1.0    0.483928\n",
       "Name: target, dtype: float64"
      ]
     },
     "execution_count": 22,
     "metadata": {},
     "output_type": "execute_result"
    },
    {
     "data": {
      "image/png": "[encoded data removed]",
      "text/plain": [
       "<Figure size 432x288 with 1 Axes>"
      ]
     },
     "metadata": {},
     "output_type": "display_data"
    }
   ],
   "source": [
    "(y_train.value_counts()/y_train.shape[0]).plot(kind='bar', title='Распределение целевой переменной');\n",
    "y_train.value_counts()/y_train.shape"
   ]
  },
  {
   "cell_type": "markdown",
   "metadata": {
    "id": "a5Zs5crpgpVd"
   },
   "source": [
    "# 2 Определение типа признаков"
   ]
  },
  {
   "cell_type": "code",
   "execution_count": 23,
   "metadata": {
    "colab": {
     "base_uri": "https://localhost:8080/"
    },
    "executionInfo": {
     "elapsed": 546,
     "status": "ok",
     "timestamp": 1643023799771,
     "user": {
      "displayName": "Сергей Певцов",
      "photoUrl": "https://lh3.googleusercontent.com/a/default-user=s64",
      "userId": "03620521566451851588"
     },
     "user_tz": -180
    },
    "id": "rOmPTTIhgpVf",
    "outputId": "615ead86-3b61-4abc-98ef-4e6d80ae7c3d"
   },
   "outputs": [
    {
     "data": {
      "text/plain": [
       "(259,)"
      ]
     },
     "execution_count": 23,
     "metadata": {},
     "output_type": "execute_result"
    }
   ],
   "source": [
    "X_nunique = X_train.apply(lambda x: x.nunique(dropna=False))\n",
    "X_nunique.shape"
   ]
  },
  {
   "cell_type": "code",
   "execution_count": 24,
   "metadata": {
    "colab": {
     "base_uri": "https://localhost:8080/",
     "height": 337
    },
    "executionInfo": {
     "elapsed": 528,
     "status": "ok",
     "timestamp": 1643023800289,
     "user": {
      "displayName": "Сергей Певцов",
      "photoUrl": "https://lh3.googleusercontent.com/a/default-user=s64",
      "userId": "03620521566451851588"
     },
     "user_tz": -180
    },
    "id": "7CMYv2eKgpVi",
    "outputId": "b8efd540-4452-4ee3-e6a8-9723ea8672a5"
   },
   "outputs": [
    {
     "data": {
      "image/png": "[encoded data removed]",
      "text/plain": [
       "<Figure size 720x360 with 1 Axes>"
      ]
     },
     "metadata": {},
     "output_type": "display_data"
    }
   ],
   "source": [
    "plt.title(\"Распределение уникальных значений признаков\");\n",
    "X_nunique.hist(bins=100, figsize=(10, 5));"
   ]
  },
  {
   "cell_type": "code",
   "execution_count": 25,
   "metadata": {
    "colab": {
     "base_uri": "https://localhost:8080/"
    },
    "executionInfo": {
     "elapsed": 1599,
     "status": "ok",
     "timestamp": 1643023801871,
     "user": {
      "displayName": "Сергей Певцов",
      "photoUrl": "https://lh3.googleusercontent.com/a/default-user=s64",
      "userId": "03620521566451851588"
     },
     "user_tz": -180
    },
    "id": "jxKx9saRgpV1",
    "outputId": "791dc4bd-dff2-4039-f748-1f37413a1653"
   },
   "outputs": [
    {
     "name": "stdout",
     "output_type": "stream",
     "text": [
      "f_all: 259\n",
      "\n",
      "f_const: 5\n",
      "f_categorical: 35\n",
      "f_numeric: 212\n"
     ]
    }
   ],
   "source": [
    "f_const, f_categorical, f_numeric = divide_features(X_train, ['Unnamed: 0', 'lag', 'id', 'feat_time', 'vas_id', 'buy_time'], N_cat=15)\n",
    "\n",
    "print('f_all:', X.shape[1])\n",
    "print()\n",
    "print('f_const:', len(f_const))\n",
    "print('f_categorical:', len(f_categorical))\n",
    "print('f_numeric:', len(f_numeric))\n"
   ]
  },
  {
   "cell_type": "markdown",
   "metadata": {
    "id": "su0bvYo1gpV3"
   },
   "source": [
    "# 3 Pipeline для baseline модели"
   ]
  },
  {
   "cell_type": "code",
   "execution_count": 26,
   "metadata": {},
   "outputs": [
    {
     "data": {
      "text/plain": [
       "<__main__.FeatureCollection at 0x2b3b9ca5c70>"
      ]
     },
     "execution_count": 26,
     "metadata": {},
     "output_type": "execute_result"
    }
   ],
   "source": [
    "fc_baseline = FeatureCollection()\n",
    "fc_baseline.set_categorical(X_train,f_categorical+['vas_id'])\n",
    "fc_baseline.set_features('nmb',f_numeric)\n",
    "fc_baseline.set_features('month', ['buy_time'])"
   ]
  },
  {
   "cell_type": "code",
   "execution_count": 27,
   "metadata": {
    "colab": {
     "base_uri": "https://localhost:8080/"
    },
    "executionInfo": {
     "elapsed": 190826,
     "status": "ok",
     "timestamp": 1643021538821,
     "user": {
      "displayName": "Сергей Певцов",
      "photoUrl": "https://lh3.googleusercontent.com/a/default-user=s64",
      "userId": "03620521566451851588"
     },
     "user_tz": -180
    },
    "id": "OMpNZxhGlW62",
    "outputId": "27df7c8d-1751-48bb-abe3-d40522014ace"
   },
   "outputs": [
    {
     "name": "stdout",
     "output_type": "stream",
     "text": [
      "              precision    recall  f1-score   support\n",
      "\n",
      "         0.0     0.9825    0.8697    0.9227    192936\n",
      "         1.0     0.3229    0.8002    0.4602     14978\n",
      "\n",
      "    accuracy                         0.8647    207914\n",
      "   macro avg     0.6527    0.8350    0.6914    207914\n",
      "weighted avg     0.9350    0.8647    0.8894    207914\n",
      "\n",
      "Wall time: 3min 26s\n"
     ]
    }
   ],
   "source": [
    "%%time\n",
    "\n",
    "bl_estimator, X_test_feats, y_test_pred = model_report(fc_baseline, X_train, y_train, X_test, y_test)"
   ]
  },
  {
   "cell_type": "markdown",
   "metadata": {},
   "source": [
    "0.6914"
   ]
  },
  {
   "cell_type": "markdown",
   "metadata": {
    "id": "QSU3noB6urqZ"
   },
   "source": [
    "## 3.1 Отберем категориальные и числовые признаки "
   ]
  },
  {
   "cell_type": "code",
   "execution_count": 28,
   "metadata": {},
   "outputs": [
    {
     "name": "stdout",
     "output_type": "stream",
     "text": [
      "              precision    recall  f1-score   support\n",
      "\n",
      "         0.0     0.9825    0.8697    0.9227    192936\n",
      "         1.0     0.3229    0.8002    0.4602     14978\n",
      "\n",
      "    accuracy                         0.8647    207914\n",
      "   macro avg     0.6527    0.8350    0.6914    207914\n",
      "weighted avg     0.9350    0.8647    0.8894    207914\n",
      "\n",
      "Wall time: 2min 48s\n"
     ]
    }
   ],
   "source": [
    "%%time\n",
    "#Для отбора признаков обучим логистическую модель с регуляризацией L1\n",
    "bl_estimator, X_test_feats, y_test_pred = model_report(fc_baseline, X_train, y_train, X_test, y_test, C=0.005)"
   ]
  },
  {
   "cell_type": "code",
   "execution_count": 29,
   "metadata": {},
   "outputs": [
    {
     "name": "stdout",
     "output_type": "stream",
     "text": [
      "remove 110 features\n"
     ]
    }
   ],
   "source": [
    "#Выделим незначащие колонки\n",
    "f_exclude = select_columns(bl_estimator['log_reg'], X_test_feats)\n",
    "print(f'remove {len(f_exclude)} features')\n",
    "#Удалим незначащие колонки из колекции признаков\n",
    "fc_baseline_select = fc_baseline.copy().remove(f_exclude)"
   ]
  },
  {
   "cell_type": "code",
   "execution_count": 30,
   "metadata": {},
   "outputs": [
    {
     "name": "stdout",
     "output_type": "stream",
     "text": [
      "              precision    recall  f1-score   support\n",
      "\n",
      "         0.0     0.9825    0.8697    0.9227    192936\n",
      "         1.0     0.3228    0.8003    0.4601     14978\n",
      "\n",
      "    accuracy                         0.8647    207914\n",
      "   macro avg     0.6527    0.8350    0.6914    207914\n",
      "weighted avg     0.9350    0.8647    0.8893    207914\n",
      "\n",
      "Wall time: 2min 41s\n"
     ]
    }
   ],
   "source": [
    "%%time\n",
    "#Проверим качество модели\n",
    "bl_estimator, X_test_feats, y_test_pred = model_report(fc_baseline_select, X_train, y_train, X_test, y_test)"
   ]
  },
  {
   "cell_type": "markdown",
   "metadata": {},
   "source": [
    "6 = 0.6915"
   ]
  },
  {
   "cell_type": "markdown",
   "metadata": {
    "id": "GQ_vicMVAbfO"
   },
   "source": [
    "# 4. Генерация и отбор новых принаков"
   ]
  },
  {
   "cell_type": "markdown",
   "metadata": {
    "id": "MSptzSHa9CDJ"
   },
   "source": [
    "## 4.1 Добавим квадраты числовых признаков"
   ]
  },
  {
   "cell_type": "code",
   "execution_count": 31,
   "metadata": {
    "id": "nejRTBlA9JY7"
   },
   "outputs": [
    {
     "data": {
      "text/plain": [
       "<__main__.FeatureCollection at 0x2b3b9d28580>"
      ]
     },
     "execution_count": 31,
     "metadata": {},
     "output_type": "execute_result"
    }
   ],
   "source": [
    "fc_pol2 = fc_baseline_select.copy()\n",
    "fc_pol2.set_features('pol2', f_numeric)"
   ]
  },
  {
   "cell_type": "code",
   "execution_count": 32,
   "metadata": {},
   "outputs": [
    {
     "name": "stdout",
     "output_type": "stream",
     "text": [
      "              precision    recall  f1-score   support\n",
      "\n",
      "         0.0     0.9731    0.9133    0.9423    192936\n",
      "         1.0     0.3766    0.6743    0.4833     14978\n",
      "\n",
      "    accuracy                         0.8961    207914\n",
      "   macro avg     0.6748    0.7938    0.7128    207914\n",
      "weighted avg     0.9301    0.8961    0.9092    207914\n",
      "\n",
      "Wall time: 4min 29s\n"
     ]
    }
   ],
   "source": [
    "%%time\n",
    "#Для отбора признаков обучим логистическую модель с регуляризацией L1\n",
    "bl_estimator, X_test_feats, y_test_pred = model_report(fc_pol2, X_train, y_train, X_test, y_test, C=0.005)"
   ]
  },
  {
   "cell_type": "markdown",
   "metadata": {},
   "source": [
    "0.7121"
   ]
  },
  {
   "cell_type": "code",
   "execution_count": 33,
   "metadata": {},
   "outputs": [
    {
     "name": "stdout",
     "output_type": "stream",
     "text": [
      "remove 50 features\n"
     ]
    }
   ],
   "source": [
    "#Выделим незначащие колонки\n",
    "f_exclude = select_columns(bl_estimator['log_reg'], X_test_feats)\n",
    "print(f'remove {len(f_exclude)} features')\n",
    "#Удалим незначащие колонки из колекции признаков\n",
    "fc_pol2_select = fc_pol2.copy().remove(f_exclude)"
   ]
  },
  {
   "cell_type": "code",
   "execution_count": 34,
   "metadata": {
    "scrolled": true
   },
   "outputs": [
    {
     "name": "stdout",
     "output_type": "stream",
     "text": [
      "              precision    recall  f1-score   support\n",
      "\n",
      "         0.0     0.9730    0.9136    0.9424    192936\n",
      "         1.0     0.3771    0.6739    0.4836     14978\n",
      "\n",
      "    accuracy                         0.8963    207914\n",
      "   macro avg     0.6751    0.7937    0.7130    207914\n",
      "weighted avg     0.9301    0.8963    0.9093    207914\n",
      "\n",
      "Wall time: 4min 38s\n"
     ]
    }
   ],
   "source": [
    "%%time\n",
    "#Проверим качество модели\n",
    "bl_estimator, X_test_feats, y_test_pred = model_report(fc_pol2_select, X_train, y_train, X_test, y_test)"
   ]
  },
  {
   "cell_type": "markdown",
   "metadata": {
    "id": "4DaNjcvmvItf"
   },
   "source": [
    "0.7104 <br>\n",
    "\n"
   ]
  },
  {
   "cell_type": "markdown",
   "metadata": {
    "id": "KzVc7lizvItf"
   },
   "source": [
    "# 5 Финальная модель"
   ]
  },
  {
   "cell_type": "code",
   "execution_count": 35,
   "metadata": {},
   "outputs": [],
   "source": [
    "fc_fin = fc_pol2_select.copy()"
   ]
  },
  {
   "cell_type": "code",
   "execution_count": 36,
   "metadata": {},
   "outputs": [
    {
     "name": "stdout",
     "output_type": "stream",
     "text": [
      "              precision    recall  f1-score   support\n",
      "\n",
      "         0.0     0.9791    0.8834    0.9288    192936\n",
      "         1.0     0.3352    0.7576    0.4648     14978\n",
      "\n",
      "    accuracy                         0.8743    207914\n",
      "   macro avg     0.6572    0.8205    0.6968    207914\n",
      "weighted avg     0.9328    0.8743    0.8954    207914\n",
      "\n"
     ]
    }
   ],
   "source": [
    "from sklearn.ensemble import RandomForestClassifier\n",
    "\n",
    "transf = fc_fin.make_pipeline()\n",
    "estimator = Pipeline([\n",
    "                ('estimator', RandomForestClassifier(max_depth=3, random_state=RANDOM_STATE, n_jobs=-1)),\n",
    "                ])\n",
    "estimator.fit(transf.fit_transform(X_train, y_train), y_train)\n",
    "X_test_transf = transf.transform(X_test)\n",
    "y_pred = estimator.predict_proba(X_test_transf )[:,1]\n",
    "print(classification_report(y_test, y_pred > 0.5, digits=4))"
   ]
  },
  {
   "cell_type": "markdown",
   "metadata": {},
   "source": [
    "max_depth=5 0.6937 <br>\n",
    "max_depth=7 0.6893 <br>"
   ]
  },
  {
   "cell_type": "code",
   "execution_count": null,
   "metadata": {},
   "outputs": [],
   "source": []
  },
  {
   "cell_type": "code",
   "execution_count": 37,
   "metadata": {},
   "outputs": [
    {
     "name": "stdout",
     "output_type": "stream",
     "text": [
      "[18:08:55] WARNING: C:/Users/Administrator/workspace/xgboost-win64_release_1.5.0/src/learner.cc:1115: Starting in XGBoost 1.3.0, the default evaluation metric used with the objective 'binary:logistic' was changed from 'error' to 'logloss'. Explicitly set eval_metric if you'd like to restore the old behavior.\n",
      "              precision    recall  f1-score   support\n",
      "\n",
      "         0.0     0.9919    0.8206    0.8982    192936\n",
      "         1.0     0.2833    0.9134    0.4325     14978\n",
      "\n",
      "    accuracy                         0.8273    207914\n",
      "   macro avg     0.6376    0.8670    0.6653    207914\n",
      "weighted avg     0.9408    0.8273    0.8646    207914\n",
      "\n"
     ]
    }
   ],
   "source": [
    "import xgboost as xgb\n",
    "\n",
    "transf = fc_fin.make_pipeline()\n",
    "estimator = Pipeline([\n",
    "                ('estimator', xgb.XGBClassifier(random_state=21, max_depth=3,)),\n",
    "                ])\n",
    "estimator.fit(transf.fit_transform(X_train, y_train), y_train)\n",
    "X_test_transf = transf.transform(X_test)\n",
    "y_pred = estimator.predict_proba(X_test_transf )[:,1]\n",
    "print(classification_report(y_test, y_pred > 0.5, digits=4))"
   ]
  },
  {
   "cell_type": "code",
   "execution_count": null,
   "metadata": {},
   "outputs": [],
   "source": []
  },
  {
   "cell_type": "code",
   "execution_count": 40,
   "metadata": {
    "id": "IZIpd8IBvItf"
   },
   "outputs": [],
   "source": [
    "fn_estimator = Pipeline([\n",
    "    ('transform', fc_fin.make_pipeline()),\n",
    "    ('log_reg', LogisticRegression(C=1, penalty='l1', solver='saga', random_state=RANDOM_STATE, n_jobs=-1, tol=0.001)),\n",
    "])"
   ]
  },
  {
   "cell_type": "code",
   "execution_count": 41,
   "metadata": {
    "id": "D7DjiJLJvItg"
   },
   "outputs": [
    {
     "name": "stdout",
     "output_type": "stream",
     "text": [
      "              precision    recall  f1-score   support\n",
      "\n",
      "         0.0     0.9730    0.9136    0.9424    192936\n",
      "         1.0     0.3771    0.6739    0.4836     14978\n",
      "\n",
      "    accuracy                         0.8963    207914\n",
      "   macro avg     0.6751    0.7937    0.7130    207914\n",
      "weighted avg     0.9301    0.8963    0.9093    207914\n",
      "\n",
      "Wall time: 4min 40s\n"
     ]
    }
   ],
   "source": [
    "%%time\n",
    "\n",
    "fn_estimator.fit(X_train, y_train)\n",
    "y_pred = fn_estimator.predict_proba(X_test)[:,1]\n",
    "print(classification_report(y_test, y_pred > 0.5, digits=4))"
   ]
  },
  {
   "cell_type": "markdown",
   "metadata": {
    "id": "mo1EPPTYvItg"
   },
   "source": [
    "## Сохраняем модель"
   ]
  },
  {
   "cell_type": "code",
   "execution_count": 42,
   "metadata": {
    "id": "CNua6cEKvItg"
   },
   "outputs": [],
   "source": [
    "import joblib"
   ]
  },
  {
   "cell_type": "code",
   "execution_count": 43,
   "metadata": {
    "id": "fy8CXkMdvItg"
   },
   "outputs": [
    {
     "data": {
      "text/plain": [
       "['log_reg_model3.pkl']"
      ]
     },
     "execution_count": 43,
     "metadata": {},
     "output_type": "execute_result"
    }
   ],
   "source": [
    "joblib.dump(fn_estimator, \"log_reg_model3.pkl\")"
   ]
  },
  {
   "cell_type": "code",
   "execution_count": null,
   "metadata": {
    "id": "zVJw1vRJvItg"
   },
   "outputs": [],
   "source": [
    "#fn_estimator = joblib.load(\"model.pkl\")"
   ]
  }
 ],
 "metadata": {
  "colab": {
   "collapsed_sections": [],
   "name": "baseline_12lc.ipynb",
   "provenance": []
  },
  "kernelspec": {
   "display_name": "Python 3",
   "language": "python",
   "name": "python3"
  },
  "language_info": {
   "codemirror_mode": {
    "name": "ipython",
    "version": 3
   },
   "file_extension": ".py",
   "mimetype": "text/x-python",
   "name": "python",
   "nbconvert_exporter": "python",
   "pygments_lexer": "ipython3",
   "version": "3.8.5"
  }
 },
 "nbformat": 4,
 "nbformat_minor": 1
}
